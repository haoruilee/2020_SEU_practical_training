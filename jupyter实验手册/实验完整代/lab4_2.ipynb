{
 "cells": [
  {
   "cell_type": "code",
   "execution_count": 1,
   "metadata": {},
   "outputs": [
    {
     "name": "stderr",
     "output_type": "stream",
     "text": [
      "Using TensorFlow backend.\n"
     ]
    }
   ],
   "source": [
    "#使用多种特征进行预测\n",
    "from keras.layers import Input, Dense, LSTM\n",
    "from keras.models import Model\n",
    "import pandas as pd\n",
    "import numpy as np\n",
    "import matplotlib.pyplot as plt\n",
    "%matplotlib inline\n",
    "from sklearn.preprocessing import MinMaxScaler\n",
    "import time\n"
   ]
  },
  {
   "cell_type": "code",
   "execution_count": 2,
   "metadata": {
    "collapsed": true
   },
   "outputs": [],
   "source": [
    "\n",
    "output_dim = 1\n",
    "batch_size = 256\n",
    "epochs = 10\n",
    "seq_len = 5\n",
    "hidden_size = 128\n"
   ]
  },
  {
   "cell_type": "code",
   "execution_count": 3,
   "metadata": {},
   "outputs": [
    {
     "name": "stdout",
     "output_type": "stream",
     "text": [
      "(33012, 501) (8254, 501)\n",
      "(33007, 5, 501) (33007,) (8249, 5, 501) (8249,)\n"
     ]
    }
   ],
   "source": [
    "#panda加载csv文件\n",
    "data = pd.read_csv('data_stocks.csv')\n",
    "#删除时间戳列\n",
    "data.drop('DATE',axis=1,inplace=True)\n",
    "#将所有数据分成训练集和测试集\n",
    "data_train = data.iloc[:int(data.shape[0]*0.8),:]\n",
    "data_test = data.iloc[int(data.shape[0]*0.8):,:]\n",
    "print(data_train.shape,data_test.shape)\n",
    "\n",
    "#进行归一化处理\n",
    "scaler = MinMaxScaler(feature_range=(-1,1))\n",
    "scaler.fit(data_train)\n",
    "data_train = scaler.transform(data_train)\n",
    "data_test = scaler.transform(data_test)\n",
    "\n",
    "X_train = np.array([data_train[i:i + seq_len,:] for i in range(data_train.shape[0]-seq_len)])\n",
    "y_train = np.array([data_train[i + seq_len,0] for i in range(data_train.shape[0]-seq_len)])\n",
    "\n",
    "X_test = np.array([data_test[i:i + seq_len,:] for i in range(data_test.shape[0]-seq_len)])\n",
    "y_test = np.array([data_test[i + seq_len,0] for i in range(data_test.shape[0]-seq_len)])\n",
    "\n",
    "print(X_train.shape,y_train.shape,X_test.shape,y_test.shape)\n",
    "\n"
   ]
  },
  {
   "cell_type": "code",
   "execution_count": 4,
   "metadata": {
    "collapsed": true
   },
   "outputs": [],
   "source": [
    "\n",
    "X = Input(shape=[X_train.shape[1],X_train.shape[2],])\n",
    "h = LSTM(hidden_size,activation='relu')(X)\n",
    "Y = Dense(output_dim,activation='sigmoid')(h)\n",
    "\n",
    "model = Model(X,Y)\n",
    "model.compile(loss='mean_squared_error',optimizer='adam')\n",
    "\n"
   ]
  },
  {
   "cell_type": "code",
   "execution_count": 5,
   "metadata": {},
   "outputs": [
    {
     "name": "stdout",
     "output_type": "stream",
     "text": [
      "Epoch 1/10\n",
      "33007/33007 [==============================] - 5s 153us/step - loss: 0.1150\n",
      "Epoch 2/10\n",
      "33007/33007 [==============================] - 4s 122us/step - loss: 0.1158\n",
      "Epoch 3/10\n",
      "33007/33007 [==============================] - 4s 122us/step - loss: 0.1054\n",
      "Epoch 4/10\n",
      "33007/33007 [==============================] - 4s 122us/step - loss: 0.1046\n",
      "Epoch 5/10\n",
      "33007/33007 [==============================] - 4s 123us/step - loss: 0.1075\n",
      "Epoch 6/10\n",
      "33007/33007 [==============================] - 4s 121us/step - loss: 0.1068\n",
      "Epoch 7/10\n",
      "33007/33007 [==============================] - 4s 119us/step - loss: 0.1049\n",
      "Epoch 8/10\n",
      "33007/33007 [==============================] - 4s 124us/step - loss: 0.1043\n",
      "Epoch 9/10\n",
      "33007/33007 [==============================] - 4s 123us/step - loss: 0.1232\n",
      "Epoch 10/10\n",
      "33007/33007 [==============================] - 4s 121us/step - loss: 0.1046\n",
      "33007/33007 [==============================] - 2s 56us/step\n",
      "训练集上的损失 0.1227329783\n",
      "8249/8249 [==============================] - 0s 57us/step\n",
      "测试集上的损失 0.00637489342932\n"
     ]
    },
    {
     "data": {
      "image/png": "[encoded data removed]",
      "text/plain": [
       "<matplotlib.figure.Figure at 0x7f2b4c3d7898>"
      ]
     },
     "metadata": {},
     "output_type": "display_data"
    }
   ],
   "source": [
    "model.fit(X_train,y_train,epochs=\n",
    "epochs,batch_size=batch_size,shuffle=False)\n",
    "y_pred = model.predict(X_test)\n",
    "\n",
    "print('训练集上的损失',model.evaluate(X_train,y_train,batch_size=batch_size))\n",
    "print('测试集上的损失',model.evaluate(X_test,y_test,batch_size=batch_size))\n",
    "plt.plot(y_test,label='test')\n",
    "plt.plot(y_pred,label='pred')\n",
    "plt.legend()\n",
    "plt.show()\n"
   ]
  },
  {
   "cell_type": "code",
   "execution_count": null,
   "metadata": {
    "collapsed": true
   },
   "outputs": [],
   "source": []
  }
 ],
 "metadata": {
  "kernelspec": {
   "display_name": "Python 3",
   "language": "python",
   "name": "python3"
  },
  "language_info": {
   "codemirror_mode": {
    "name": "ipython",
    "version": 3
   },
   "file_extension": ".py",
   "mimetype": "text/x-python",
   "name": "python",
   "nbconvert_exporter": "python",
   "pygments_lexer": "ipython3",
   "version": "3.6.2"
  }
 },
 "nbformat": 4,
 "nbformat_minor": 2
}
