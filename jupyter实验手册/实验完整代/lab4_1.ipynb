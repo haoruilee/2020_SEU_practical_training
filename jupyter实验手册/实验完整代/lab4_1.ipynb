{
 "cells": [
  {
   "cell_type": "code",
   "execution_count": 1,
   "metadata": {},
   "outputs": [
    {
     "name": "stderr",
     "output_type": "stream",
     "text": [
      "Using TensorFlow backend.\n"
     ]
    }
   ],
   "source": [
    "from keras.layers import Input, Dense, LSTM\n",
    "from keras.models import Model\n",
    "import pandas as pd\n",
    "import numpy as np\n",
    "import matplotlib.pyplot as plt\n",
    "%matplotlib inline\n",
    "from sklearn.preprocessing import MinMaxScaler\n",
    "import time\n",
    "\n",
    "output_dim = 1\n",
    "batch_size = 256\n",
    "epochs = 10\n",
    "seq_len = 5\n",
    "hidden_size = 128\n"
   ]
  },
  {
   "cell_type": "code",
   "execution_count": 2,
   "metadata": {},
   "outputs": [
    {
     "name": "stdout",
     "output_type": "stream",
     "text": [
      "(33012, 501) (8254, 501)\n"
     ]
    }
   ],
   "source": [
    "#panda加载csv文件\n",
    "data = pd.read_csv('data_stocks.csv')\n",
    "#删除时间戳列\n",
    "data.drop('DATE',axis=1,inplace=True)\n",
    "#将所有数据分成训练集和测试集\n",
    "data_train = data.iloc[:int(data.shape[0]*0.8),:]\n",
    "data_test = data.iloc[int(data.shape[0]*0.8):,:]\n",
    "print(data_train.shape,data_test.shape)\n",
    "\n",
    "#进行归一化处理\n",
    "scaler = MinMaxScaler(feature_range=(-1,1))\n",
    "scaler.fit(data_train)\n",
    "data_train = scaler.transform(data_train)\n",
    "data_test = scaler.transform(data_test)\n",
    "\n",
    "X_train = np.array([data_train[i : i + seq_len, 0] for i in\n",
    "range(data_train.shape[0] - seq_len)])[:, :, np.newaxis]\n",
    "y_train = np.array([data_train[i + seq_len, 0] for i in range(data_train.shape[0] - seq_len)])\n",
    "X_test = np.array([data_test[i : i + seq_len, 0] for i in range(data_test.shape[0] - seq_len)])[:, :, np.newaxis]\n",
    "y_test = np.array([data_test[i + seq_len, 0] for i in range(data_test.shape[0] - seq_len)])\n",
    "\n"
   ]
  },
  {
   "cell_type": "code",
   "execution_count": 3,
   "metadata": {},
   "outputs": [
    {
     "name": "stdout",
     "output_type": "stream",
     "text": [
      "(33007, 5, 1) (33007,) (8249, 5, 1) (8249,)\n"
     ]
    }
   ],
   "source": [
    "print(X_train.shape, y_train.shape, X_test.shape, y_test.shape)"
   ]
  },
  {
   "cell_type": "code",
   "execution_count": 4,
   "metadata": {
    "collapsed": true
   },
   "outputs": [],
   "source": [
    "\n",
    "X = Input(shape=[X_train.shape[1], X_train.shape[2],])\n",
    "h = LSTM(hidden_size, activation='relu')(X)\n",
    "Y = Dense(output_dim, activation='sigmoid')(h)\n",
    "\n",
    "model = Model(X, Y)\n",
    "model.compile(loss='mean_squared_error', optimizer='adam')\n",
    "\n"
   ]
  },
  {
   "cell_type": "code",
   "execution_count": 5,
   "metadata": {},
   "outputs": [
    {
     "name": "stdout",
     "output_type": "stream",
     "text": [
      "Epoch 1/10\n",
      "33007/33007 [==============================] - 3s 90us/step - loss: 0.3187\n",
      "Epoch 2/10\n",
      "33007/33007 [==============================] - 2s 62us/step - loss: 0.1064\n",
      "Epoch 3/10\n",
      "33007/33007 [==============================] - 2s 61us/step - loss: 0.1041\n",
      "Epoch 4/10\n",
      "33007/33007 [==============================] - 2s 62us/step - loss: 0.1028\n",
      "Epoch 5/10\n",
      "33007/33007 [==============================] - 2s 63us/step - loss: 0.1023\n",
      "Epoch 6/10\n",
      "33007/33007 [==============================] - 2s 63us/step - loss: 0.1021\n",
      "Epoch 7/10\n",
      "33007/33007 [==============================] - 2s 63us/step - loss: 0.1021\n",
      "Epoch 8/10\n",
      "33007/33007 [==============================] - 2s 62us/step - loss: 0.1021\n",
      "Epoch 9/10\n",
      "33007/33007 [==============================] - 2s 62us/step - loss: 0.1020\n",
      "Epoch 10/10\n",
      "33007/33007 [==============================] - 2s 62us/step - loss: 0.1020\n",
      "33007/33007 [==============================] - 1s 21us/step\n",
      "MSE Train: 0.102170923296\n",
      "8249/8249 [==============================] - 0s 17us/step\n",
      "MSE Test: 0.00128715601199\n"
     ]
    },
    {
     "data": {
      "image/png": "[encoded data removed]",
      "text/plain": [
       "<matplotlib.figure.Figure at 0x7f283c55fbe0>"
      ]
     },
     "metadata": {},
     "output_type": "display_data"
    }
   ],
   "source": [
    "model.fit(X_train, y_train, epochs=epochs, batch_size=batch_size,\n",
    "shuffle=False)\n",
    "y_pred = model.predict(X_test)\n",
    "print('MSE Train:', model.evaluate(X_train, y_train, batch_size=batch_size))\n",
    "print('MSE Test:', model.evaluate(X_test, y_test, batch_size=batch_size))\n",
    "plt.plot(y_test, label='test')\n",
    "plt.plot(y_pred, label='pred')\n",
    "plt.legend()\n",
    "plt.show()\n"
   ]
  },
  {
   "cell_type": "code",
   "execution_count": null,
   "metadata": {
    "collapsed": true
   },
   "outputs": [],
   "source": []
  }
 ],
 "metadata": {
  "kernelspec": {
   "display_name": "Python 3",
   "language": "python",
   "name": "python3"
  },
  "language_info": {
   "codemirror_mode": {
    "name": "ipython",
    "version": 3
   },
   "file_extension": ".py",
   "mimetype": "text/x-python",
   "name": "python",
   "nbconvert_exporter": "python",
   "pygments_lexer": "ipython3",
   "version": "3.6.2"
  }
 },
 "nbformat": 4,
 "nbformat_minor": 2
}
